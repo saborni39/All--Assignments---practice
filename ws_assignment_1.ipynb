{
 "cells": [
  {
   "cell_type": "markdown",
   "metadata": {},
   "source": [
    "# Introduction to Web Science\n",
    "## Assignment 1\n",
    "\n",
    "Team Name: **Mike**\n",
    "\n",
    "Team Members: \n",
    "* **Abir Hasan Shawon**\n",
    "* **Forkan Uddin Ahmed**\n",
    "* **Saborni Shernaj Elahi**\n",
    "* **Resmin Hossain**"
   ]
  },
  {
   "cell_type": "markdown",
   "metadata": {},
   "source": [
    "### 1. Introduction to Python Programming"
   ]
  },
  {
   "cell_type": "code",
   "execution_count": 2,
   "metadata": {},
   "outputs": [],
   "source": [
    "# Importing all the libraries used for the tasks 1.1 and 1.2\n",
    "import numpy as np\n",
    "from numpy import random\n",
    "import matplotlib.pyplot as plt\n",
    "import string"
   ]
  },
  {
   "cell_type": "markdown",
   "metadata": {},
   "source": [
    "### 1.1 In this task, you will write a simple python script that does the following:\n",
    "##### 1. Generate a random number sequence of 100 values that are between 0 to 1000. Make sure that each of element in the sequence is type of float and use 42 as random seed."
   ]
  },
  {
   "cell_type": "code",
   "execution_count": 3,
   "metadata": {},
   "outputs": [],
   "source": [
    "# Assigning seed value to the random function\n",
    "random.seed(42)\n",
    "degrees = random.uniform(0, 1000, 100)"
   ]
  },
  {
   "cell_type": "markdown",
   "metadata": {},
   "source": [
    "##### 2. Print each of the element in the sequence."
   ]
  },
  {
   "cell_type": "code",
   "execution_count": 4,
   "metadata": {},
   "outputs": [
    {
     "name": "stdout",
     "output_type": "stream",
     "text": [
      "374.54011884736246\n",
      "950.7143064099162\n",
      "731.9939418114051\n",
      "598.6584841970366\n",
      "156.01864044243652\n",
      "155.99452033620264\n",
      "58.08361216819946\n",
      "866.1761457749352\n",
      "601.1150117432088\n",
      "708.0725777960455\n",
      "20.584494295802447\n",
      "969.9098521619943\n",
      "832.4426408004217\n",
      "212.33911067827614\n",
      "181.82496720710063\n",
      "183.4045098534338\n",
      "304.24224295953775\n",
      "524.7564316322379\n",
      "431.94501864211577\n",
      "291.22914019804193\n",
      "611.8528947223795\n",
      "139.49386065204183\n",
      "292.14464853521815\n",
      "366.3618432936917\n",
      "456.06998421703594\n",
      "785.1759613930136\n",
      "199.67378215835973\n",
      "514.2344384136117\n",
      "592.4145688620424\n",
      "46.45041271999772\n",
      "607.5448519014384\n",
      "170.52412368729154\n",
      "65.05159298527951\n",
      "948.8855372533333\n",
      "965.6320330745593\n",
      "808.3973481164611\n",
      "304.6137691733707\n",
      "97.67211400638386\n",
      "684.2330265121569\n",
      "440.1524937396013\n",
      "122.03823484477883\n",
      "495.17691011127016\n",
      "34.388521115218396\n",
      "909.3204020787821\n",
      "258.7799816000169\n",
      "662.522284353982\n",
      "311.71107608941094\n",
      "520.0680211778108\n",
      "546.7102793432797\n",
      "184.85445552552704\n",
      "969.5846277645586\n",
      "775.1328233611146\n",
      "939.4989415641891\n",
      "894.8273504276489\n",
      "597.8999788110851\n",
      "921.8742350231169\n",
      "88.4925020519195\n",
      "195.9828624191452\n",
      "45.227288910538064\n",
      "325.3303307632643\n",
      "388.677289689482\n",
      "271.3490317738959\n",
      "828.7375091519293\n",
      "356.75332669358926\n",
      "280.93450968738074\n",
      "542.6960831582485\n",
      "140.92422497476264\n",
      "802.1969807540397\n",
      "74.55064367977083\n",
      "986.8869366005173\n",
      "772.2447692966574\n",
      "198.7156815341724\n",
      "5.522117123602399\n",
      "815.4614284548342\n",
      "706.8573438476171\n",
      "729.0071680409873\n",
      "771.2703466859457\n",
      "74.04465173409037\n",
      "358.4657285442726\n",
      "115.86905952512971\n",
      "863.1034258755935\n",
      "623.2981268275579\n",
      "330.8980248526492\n",
      "63.55835028602363\n",
      "310.9823217156622\n",
      "325.183322026747\n",
      "729.6061783380641\n",
      "637.5574713552131\n",
      "887.2127425763265\n",
      "472.2149251619493\n",
      "119.5942459383017\n",
      "713.244787222995\n",
      "760.7850486168975\n",
      "561.2771975694963\n",
      "770.967179954561\n",
      "493.79559636439075\n",
      "522.7328293819941\n",
      "427.54101835854965\n",
      "25.419126744095188\n",
      "107.89142699330445\n"
     ]
    }
   ],
   "source": [
    "for value in degrees:\n",
    "    print(value)"
   ]
  },
  {
   "cell_type": "markdown",
   "metadata": {},
   "source": [
    "##### 3. The elements in the sequence denote the degrees. Perform sine and cosine operation on them and store the values in two different arrays named SIN and COS respectively."
   ]
  },
  {
   "cell_type": "code",
   "execution_count": 5,
   "metadata": {},
   "outputs": [],
   "source": [
    "# Converting the degrees to the corresponding radian values of SINE and COSINE\n",
    "SIN = np.sin(degrees*(np.pi/180))\n",
    "COS = np.cos(degrees*(np.pi/180))"
   ]
  },
  {
   "cell_type": "markdown",
   "metadata": {},
   "source": [
    "##### 4. Plot the values of SIN and COS in two different colors and shapes. The plot musthave labeled axes and legend that contain plausible information of the task."
   ]
  },
  {
   "cell_type": "code",
   "execution_count": 6,
   "metadata": {},
   "outputs": [
    {
     "data": {
      "image/png": "[encoded data removed]",
      "text/plain": [
       "<Figure size 432x288 with 1 Axes>"
      ]
     },
     "metadata": {
      "needs_background": "light"
     },
     "output_type": "display_data"
    }
   ],
   "source": [
    "# Plotting the SINE and COSINE values as a Scatter Plot\n",
    "plt.scatter(degrees, SIN, marker = \".\", label='Sin')\n",
    "plt.scatter(degrees, COS, marker = \"x\",label='Cos')\n",
    "plt.xlabel('Degree')\n",
    "plt.ylabel('Value')\n",
    "plt.title('Generated degree values are on X-Axis \\n As both sin and cos can have values between -1<=X<=1, it reflects on Y-Axis')\n",
    "plt.legend(loc='upper right', frameon=True)\n",
    "plt.show()"
   ]
  },
  {
   "cell_type": "markdown",
   "metadata": {},
   "source": [
    "### 1.2 Write another simple python script that does the following:\n",
    "##### 1. Read sample text (sample.txt) and store in TEXT variable."
   ]
  },
  {
   "cell_type": "code",
   "execution_count": 7,
   "metadata": {},
   "outputs": [
    {
     "ename": "FileNotFoundError",
     "evalue": "[Errno 2] No such file or directory: 'ws_assignment/sample.txt'",
     "output_type": "error",
     "traceback": [
      "\u001b[1;31m---------------------------------------------------------------------------\u001b[0m",
      "\u001b[1;31mFileNotFoundError\u001b[0m                         Traceback (most recent call last)",
      "\u001b[1;32m<ipython-input-7-2e75ab32969e>\u001b[0m in \u001b[0;36m<module>\u001b[1;34m\u001b[0m\n\u001b[0;32m      1\u001b[0m \u001b[1;31m# Reading a paragraph from a file named SAMPLE\u001b[0m\u001b[1;33m\u001b[0m\u001b[1;33m\u001b[0m\u001b[1;33m\u001b[0m\u001b[0m\n\u001b[1;32m----> 2\u001b[1;33m \u001b[0msample_file\u001b[0m \u001b[1;33m=\u001b[0m \u001b[0mopen\u001b[0m\u001b[1;33m(\u001b[0m\u001b[1;34m\"ws_assignment/sample.txt\"\u001b[0m\u001b[1;33m,\u001b[0m \u001b[1;34m\"r\"\u001b[0m\u001b[1;33m)\u001b[0m\u001b[1;33m\u001b[0m\u001b[1;33m\u001b[0m\u001b[0m\n\u001b[0m\u001b[0;32m      3\u001b[0m \u001b[0mTEXT\u001b[0m \u001b[1;33m=\u001b[0m \u001b[0msample_file\u001b[0m\u001b[1;33m.\u001b[0m\u001b[0mread\u001b[0m\u001b[1;33m(\u001b[0m\u001b[1;33m)\u001b[0m\u001b[1;33m\u001b[0m\u001b[1;33m\u001b[0m\u001b[0m\n",
      "\u001b[1;31mFileNotFoundError\u001b[0m: [Errno 2] No such file or directory: 'ws_assignment/sample.txt'"
     ]
    }
   ],
   "source": [
    "# Reading a paragraph from a file named SAMPLE\n",
    "sample_file = open(\"ws_assignment/sample.txt\", \"r\")\n",
    "TEXT = sample_file.read()"
   ]
  },
  {
   "cell_type": "markdown",
   "metadata": {},
   "source": [
    "##### 2. Count the frequency of each word in TEXT by filtering out any punctuation (e.g .,!) and number. If a word has uppercase letters, change them to lowercase."
   ]
  },
  {
   "cell_type": "code",
   "execution_count": 85,
   "metadata": {},
   "outputs": [],
   "source": [
    "# Making all the Uppercase characters to lowercase\n",
    "TEXT = TEXT.lower()\n",
    "\n",
    "# Removing all the punctuations\n",
    "TEXT = TEXT.translate(str.maketrans('', '', string.punctuation))\n",
    "\n",
    "# Removing any digit that is on the text\n",
    "TEXT = TEXT.translate(str.maketrans('', '', \"0123456789\"))\n",
    "\n",
    "# Splitting the words\n",
    "words = TEXT.split(\" \")\n",
    "\n",
    "# Stripping empty spaces\n",
    "words = list(filter(lambda x: x!= \"\", words))\n",
    "\n",
    "# Frequency Count of each word. In this dictionary\n",
    "# Each word will be KEY and \n",
    "# Their corresponding frequencies will be the VALUE\n",
    "freq = {}\n",
    "for item in words:\n",
    "    if item in freq.keys():\n",
    "        count = freq[item]\n",
    "        count += 1\n",
    "        freq[item] = count\n",
    "    else:\n",
    "        freq[item] = 1\n",
    "\n",
    "# Sorting words in descending order on a basis of Frequency count\n",
    "freq = sorted(freq.items(), key=lambda x: x[1], reverse=True)"
   ]
  },
  {
   "cell_type": "markdown",
   "metadata": {},
   "source": [
    "##### 3. Plot the frequency distribution of words that occurs more than once, in an descending order. The plot must have labeled axes and legend that contain plausible information of the task. Apply the necessary settings for readable axes’ information."
   ]
  },
  {
   "cell_type": "code",
   "execution_count": 86,
   "metadata": {},
   "outputs": [],
   "source": [
    "# Splitting the list into two individual lists\n",
    "# words_list will hold all the words in descending order\n",
    "# frequency_list will hold all the frequency count in descending order\n",
    "words_list = []\n",
    "frequency_list = []\n",
    "i = 0\n",
    "for item in freq:\n",
    "    # Also only taking the words which has frequency count greater than 1\n",
    "    if(item[1]>1):\n",
    "        words_list.append(item[0])\n",
    "        frequency_list.append(item[1])"
   ]
  },
  {
   "cell_type": "code",
   "execution_count": 87,
   "metadata": {},
   "outputs": [
    {
     "data": {
      "text/plain": [
       "[]"
      ]
     },
     "execution_count": 87,
     "metadata": {},
     "output_type": "execute_result"
    },
    {
     "data": {
      "image/png": "[encoded data removed]",
      "text/plain": [
       "<Figure size 2880x360 with 1 Axes>"
      ]
     },
     "metadata": {
      "needs_background": "light"
     },
     "output_type": "display_data"
    }
   ],
   "source": [
    "# Plotting the frequency distribution of words as a bar chart\n",
    "plt.bar(words_list, frequency_list, color = \"g\", label=\"Word Count\")\n",
    "plt.xlabel('Words')\n",
    "plt.ylabel('Frequencies')\n",
    "plt.title('We can see the frequyncy of the words from this bar chart')\n",
    "plt.legend(loc='upper right', frameon=True)\n",
    "#plt.rcParams['figure.figsize'] = [40,5]\n",
    "plt.plot()"
   ]
  },
  {
   "cell_type": "code",
   "execution_count": null,
   "metadata": {},
   "outputs": [],
   "source": []
  }
 ],
 "metadata": {
  "kernelspec": {
   "display_name": "Python 3",
   "language": "python",
   "name": "python3"
  },
  "language_info": {
   "codemirror_mode": {
    "name": "ipython",
    "version": 3
   },
   "file_extension": ".py",
   "mimetype": "text/x-python",
   "name": "python",
   "nbconvert_exporter": "python",
   "pygments_lexer": "ipython3",
   "version": "3.8.3"
  }
 },
 "nbformat": 4,
 "nbformat_minor": 4
}
