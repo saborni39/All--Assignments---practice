{
 "cells": [
  {
   "cell_type": "code",
   "execution_count": 1,
   "metadata": {},
   "outputs": [
    {
     "name": "stdout",
     "output_type": "stream",
     "text": [
      "A\n",
      "B\n",
      "D\n",
      "E\n",
      "F\n",
      "C\n"
     ]
    }
   ],
   "source": [
    "# TASK 1\n",
    "# Implementation of a function DFS(G,v) that searches for a node v in a graph G using depth-first search.\n",
    "#Here G is the graph and v denotes node\n",
    "\n",
    "#Example 1\n",
    "\n",
    "# Using a Python dictionary to act as an adjacency list\n",
    "G = {\n",
    "    'A' : ['B','C'],\n",
    "    'B' : ['D', 'E'],\n",
    "    'C' : ['F'],\n",
    "    'D' : [],\n",
    "    'E' : ['F'],\n",
    "    'F' : []\n",
    "}\n",
    "\n",
    "#G1 = {\n",
    "#     '1' : ['2','3', '4'],\n",
    "#    '2' : ['5', '6'],\n",
    "#    '3' : ['6'],\n",
    "#    '4' : [],\n",
    "#    '5' : [],\n",
    "#    '6' : [],\n",
    "#    '7' : []\n",
    "#}\n",
    "\n",
    "visited = set() # Set to keep track of visited nodes.\n",
    "\n",
    "# DFS algorithm\n",
    "def DFS(visited, G, v):\n",
    "    if v not in visited:\n",
    "        print (v)\n",
    "        visited.add(v)  #adding the node to visited \n",
    "        \n",
    "        # Traversing to each adjacent node of a node\n",
    "        for neighbour in G[v]:\n",
    "            #if not visited[neighbour]:\n",
    "            \n",
    "            # Checking whether the node is visited or not\n",
    "                DFS(visited, G, neighbour)  # Calling the dfs recursively\n",
    "\n",
    "\n",
    "\n",
    "# Driver Code\n",
    "DFS(visited, G, 'A')\n",
    "#DFS(visited, G1, '1')\n",
    "\n",
    "#Reference: https://www.educative.io/\n",
    "#https://www.gatevidyalay.com/depth-first-search-dfs-algorithm/?utm_content=cmp-true"
   ]
  },
  {
   "cell_type": "code",
   "execution_count": null,
   "metadata": {},
   "outputs": [],
   "source": []
  }
 ],
 "metadata": {
  "kernelspec": {
   "display_name": "Python 3",
   "language": "python",
   "name": "python3"
  },
  "language_info": {
   "codemirror_mode": {
    "name": "ipython",
    "version": 3
   },
   "file_extension": ".py",
   "mimetype": "text/x-python",
   "name": "python",
   "nbconvert_exporter": "python",
   "pygments_lexer": "ipython3",
   "version": "3.8.3"
  }
 },
 "nbformat": 4,
 "nbformat_minor": 4
}
