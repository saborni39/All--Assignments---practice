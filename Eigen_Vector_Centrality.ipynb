{
 "cells": [
  {
   "cell_type": "code",
   "execution_count": 31,
   "metadata": {},
   "outputs": [
    {
     "name": "stdout",
     "output_type": "stream",
     "text": [
      "[0.    0.744 0.    0.744 0.248 0.496 0.992 0.62  0.62  0.248 0.62  0.248]\n",
      "3.674863999999999\n",
      "1.9169934793837977\n",
      "[0.0, 0.39, 0.0, 0.39, 0.13, 0.26, 0.52, 0.32, 0.32, 0.13, 0.32, 0.13]\n"
     ]
    }
   ],
   "source": [
    "matrix=[[0, 0, 0, 0, 0, 0, 0, 0, 0, 0, 0, 0],\n",
    "       [1, 0, 1, 1, 1, 0, 0, 0, 0, 0, 0, 0],\n",
    "       [0, 0, 0, 0, 0, 0, 0, 0, 0, 0, 0, 0],\n",
    "       [0, 0, 1, 0, 0, 0, 1, 1, 0, 0, 0, 0],\n",
    "       [1, 0, 0, 0, 0, 1, 0, 0, 0, 1, 0, 0],\n",
    "       [0, 0, 0, 0, 0, 0, 1, 0, 0, 0, 0, 0],\n",
    "       [0, 1, 1, 0, 0, 0, 0, 1, 0, 0, 1, 0],\n",
    "       [0, 0, 0, 1, 0, 0, 0, 0, 0, 0, 1, 0],\n",
    "       [0, 0, 0, 0, 1, 0, 0, 0, 0, 0, 1, 0],\n",
    "       [0, 0, 0, 0, 0, 0, 0, 0, 1, 0, 0, 0],\n",
    "       [0, 0, 0, 0, 0, 0, 1, 0, 0, 1, 0, 0],\n",
    "       [0, 0, 0, 0, 0, 0, 0, 1, 0, 0, 0, 0]]\n",
    "vector=[0.0, 0.496, 0.0, 0.372, 0.372, 0.124, 0.496, 0.248, 0.248, 0.124, 0.248, 0.124]\n",
    "finalvector=[]\n",
    "newvector=np.dot(matrix, vector)\n",
    "print(newvector)\n",
    "\n",
    "sum_of=0\n",
    "\n",
    "for x in newvector:\n",
    "    sum_of=sum_of+(x*x)\n",
    "\n",
    "final_sum_of=sqrt(sum_of)\n",
    "print(sum_of)\n",
    "print(final_sum_of)\n",
    "\n",
    "for x in newvector:\n",
    "    \n",
    "    finalvector.append(round((x/final_sum_of),2))\n",
    "    \n",
    "print(finalvector)"
   ]
  },
  {
   "cell_type": "code",
   "execution_count": 55,
   "metadata": {},
   "outputs": [],
   "source": [
    "import numpy as np\n",
    "from math import sqrt\n",
    "\n",
    "\n",
    "matrix=[[0,0,0,0,1,0,0,0,0,0,0,0,0,0],\n",
    "[1,0,0,0,0,0,0,0,0,0,0,0,0,0],\n",
    "[0,1,0,0,0,0,1,0,0,0,0,0,0,0],\n",
    "[0,1,1,0,0,0,0,0,0,0,0,0,0,0],\n",
    "[0,0,1,0,0,1,0,0,0,1,0,0,0,0],\n",
    "[0,0,0,0,0,0,1,0,0,1,0,0,0,0],\n",
    "[0,0,0,1,0,1,0,0,0,1,1,0,0,0],\n",
    "[0,0,0,0,1,0,0,0,0,0,0,0,0,0],\n",
    "[0,0,0,0,0,0,0,1,0,1,0,0,0,0],\n",
    "[0,0,0,0,0,0,0,0,1,0,0,0,0,1],\n",
    "[0,0,0,0,0,0,0,0,0,1,0,1,0,0],\n",
    "[0,0,0,0,0,0,0,0,0,1,0,0,0,1],\n",
    "[0,0,0,0,0,0,0,0,0,0,0,0,0,1],\n",
    "[0,0,0,0,0,0,0,0,0,0,0,0,0,0]]\n",
    "\n",
    "\n",
    "def eigenvector_centrality(matrix,iterations):\n",
    "    #The matrix is a square matric here\n",
    "    vector=[1,1,1,1,1,1,1,1,1,1,1,1]\n",
    "    for i in range(iterations):\n",
    "        newvector=np.dot(matrix,vector)\n",
    "\n",
    "        sum_of=0\n",
    "\n",
    "        for x in newvector:\n",
    "            sum_of=sum_of+(x*x)\n",
    "\n",
    "        final_sum_of=sqrt(sum_of)\n",
    "        print(sum_of)\n",
    "        finalvector=[]\n",
    "        for x in newvector:\n",
    "            finalvector.append(round((x/final_sum_of),4))\n",
    "        print(finalvector)\n",
    "            \n",
    "        vector=finalvector\n",
    "        "
   ]
  },
  {
   "cell_type": "code",
   "execution_count": 34,
   "metadata": {},
   "outputs": [
    {
     "name": "stdout",
     "output_type": "stream",
     "text": [
      "57\n",
      "[0.13, 0.13, 0.26, 0.26, 0.4, 0.26, 0.53, 0.13, 0.26, 0.26, 0.26, 0.26, 0.13, 0.0]\n",
      "3.7964000000000007\n",
      "[0.21, 0.07, 0.34, 0.2, 0.4, 0.41, 0.53, 0.21, 0.2, 0.13, 0.27, 0.13, 0.0, 0.0]\n"
     ]
    }
   ],
   "source": [
    "eigenvector_centrality(matrix,2)"
   ]
  },
  {
   "cell_type": "code",
   "execution_count": 60,
   "metadata": {},
   "outputs": [],
   "source": [
    "matrix2=[[0,1,0,0,1,0,0,0,0,0,0,0],\n",
    "[0,0,0,0,0,0,1,0,0,0,0,0],\n",
    "[0,1,0,1,0,0,1,0,0,0,0,0],\n",
    "[0,1,0,0,0,0,0,1,0,0,0,0],\n",
    "[0,1,0,0,0,0,1,0,1,0,0,0],\n",
    "[0,0,0,0,1,0,0,0,0,0,0,0],\n",
    "[0,0,0,1,0,1,0,0,0,1,1,0],\n",
    "[0,0,0,1,0,0,1,0,0,0,0,1],\n",
    "[0,0,0,0,0,0,0,0,0,1,0,0],\n",
    "[0,0,0,0,1,0,0,0,0,0,1,0],\n",
    "[0,0,0,0,0,0,1,1,1,0,0,0],\n",
    "[0,0,0,0,0,0,0,0,0,0,0,0]]\n",
    "        "
   ]
  },
  {
   "cell_type": "code",
   "execution_count": 61,
   "metadata": {},
   "outputs": [],
   "source": [
    "matrix2=np.transpose(matrix2)"
   ]
  },
  {
   "cell_type": "code",
   "execution_count": 62,
   "metadata": {},
   "outputs": [
    {
     "data": {
      "text/plain": [
       "array([[0, 0, 0, 0, 0, 0, 0, 0, 0, 0, 0, 0],\n",
       "       [1, 0, 1, 1, 1, 0, 0, 0, 0, 0, 0, 0],\n",
       "       [0, 0, 0, 0, 0, 0, 0, 0, 0, 0, 0, 0],\n",
       "       [0, 0, 1, 0, 0, 0, 1, 1, 0, 0, 0, 0],\n",
       "       [1, 0, 0, 0, 0, 1, 0, 0, 0, 1, 0, 0],\n",
       "       [0, 0, 0, 0, 0, 0, 1, 0, 0, 0, 0, 0],\n",
       "       [0, 1, 1, 0, 1, 0, 0, 1, 0, 0, 1, 0],\n",
       "       [0, 0, 0, 1, 0, 0, 0, 0, 0, 0, 1, 0],\n",
       "       [0, 0, 0, 0, 1, 0, 0, 0, 0, 0, 1, 0],\n",
       "       [0, 0, 0, 0, 0, 0, 1, 0, 1, 0, 0, 0],\n",
       "       [0, 0, 0, 0, 0, 0, 1, 0, 0, 1, 0, 0],\n",
       "       [0, 0, 0, 0, 0, 0, 0, 1, 0, 0, 0, 0]])"
      ]
     },
     "execution_count": 62,
     "metadata": {},
     "output_type": "execute_result"
    }
   ],
   "source": [
    "matrix2"
   ]
  },
  {
   "cell_type": "code",
   "execution_count": 64,
   "metadata": {},
   "outputs": [
    {
     "name": "stdout",
     "output_type": "stream",
     "text": [
      "77\n",
      "[0.0, 0.4558, 0.0, 0.3419, 0.3419, 0.114, 0.5698, 0.2279, 0.2279, 0.2279, 0.2279, 0.114]\n",
      "5.0906706999999995\n",
      "[0.0, 0.3031, 0.0, 0.3536, 0.1515, 0.2525, 0.5556, 0.2525, 0.2525, 0.3536, 0.3536, 0.101]\n"
     ]
    }
   ],
   "source": [
    "eigenvector_centrality(matrix2,2)"
   ]
  },
  {
   "cell_type": "code",
   "execution_count": null,
   "metadata": {},
   "outputs": [],
   "source": []
  }
 ],
 "metadata": {
  "kernelspec": {
   "display_name": "Python 3",
   "language": "python",
   "name": "python3"
  },
  "language_info": {
   "codemirror_mode": {
    "name": "ipython",
    "version": 3
   },
   "file_extension": ".py",
   "mimetype": "text/x-python",
   "name": "python",
   "nbconvert_exporter": "python",
   "pygments_lexer": "ipython3",
   "version": "3.7.6"
  }
 },
 "nbformat": 4,
 "nbformat_minor": 4
}
