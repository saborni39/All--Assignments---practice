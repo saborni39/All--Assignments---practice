{
 "cells": [
  {
   "cell_type": "markdown",
   "metadata": {},
   "source": [
    "# MLDM Assignment 03"
   ]
  },
  {
   "cell_type": "markdown",
   "metadata": {},
   "source": [
    "TODO: Write group name, group members, and their matriculation numbers\n",
    "\n",
    "Team Name: KERNIGHAN\n",
    "1. M. Rashedul Hasnat = 220202415\n",
    "2. Saborni Shernaj Binte Elahi = 220202426\n",
    "3. Resmin Hossain = 220200547\n",
    "4. Basitur Rahman Chowdhury = 218100976"
   ]
  },
  {
   "cell_type": "markdown",
   "metadata": {},
   "source": [
    "#1 Principal Component Analysis (Total of 100 Points)\n",
    "\n",
    "Download assignment03.ipynb and use it as template for your solution. In the template,\n",
    "you are given a small dataset with two features, resulting in 2D data that is stored\n",
    "in mat. The data is then standardized, using the z-score scaling, and stored in z_mat.\n",
    "In preparation of the the PCA technique, the covariance matrix is computed and the\n",
    "eigendecomposition is performed on the covariance matrix.\n",
    "\n",
    "In the following, read the tasks and implement their solution in the corresponding cells\n",
    "of the template."
   ]
  },
  {
   "cell_type": "code",
   "execution_count": 216,
   "metadata": {},
   "outputs": [],
   "source": [
    "import numpy as np\n",
    "import matplotlib.pyplot as plt"
   ]
  },
  {
   "cell_type": "code",
   "execution_count": 217,
   "metadata": {},
   "outputs": [],
   "source": [
    "# Feature values\n",
    "x1 = np.array([1.1,2.2,2.5,4,5.2,6.1]) # first feature\n",
    "x2 = np.array([1.4,2.1,2.9,5,5.1,6.7]) # second feature\n",
    "assert len(x1) == len(x2)"
   ]
  },
  {
   "cell_type": "code",
   "execution_count": 218,
   "metadata": {},
   "outputs": [
    {
     "name": "stdout",
     "output_type": "stream",
     "text": [
      "[[1.1 1.4]\n",
      " [2.2 2.1]\n",
      " [2.5 2.9]\n",
      " [4.  5. ]\n",
      " [5.2 5.1]\n",
      " [6.1 6.7]]\n"
     ]
    }
   ],
   "source": [
    "# Combine features to data matrix\n",
    "mat = np.array([x1, x2]).transpose()\n",
    "print(mat)"
   ]
  },
  {
   "cell_type": "code",
   "execution_count": 219,
   "metadata": {},
   "outputs": [
    {
     "data": {
      "image/png": "[encoded data removed]",
      "text/plain": [
       "<Figure size 432x288 with 1 Axes>"
      ]
     },
     "metadata": {
      "needs_background": "light"
     },
     "output_type": "display_data"
    }
   ],
   "source": [
    "# Plot the data\n",
    "plt.scatter(mat[:,0], mat[:,1])\n",
    "plt.show()"
   ]
  },
  {
   "cell_type": "code",
   "execution_count": 220,
   "metadata": {},
   "outputs": [
    {
     "name": "stdout",
     "output_type": "stream",
     "text": [
      "[[-1.38195552 -1.31932673]\n",
      " [-0.75292749 -0.9449232 ]\n",
      " [-0.58137439 -0.51703345]\n",
      " [ 0.2763911   0.60617714]\n",
      " [ 0.9626035   0.65966336]\n",
      " [ 1.4772628   1.51544286]]\n"
     ]
    }
   ],
   "source": [
    "# Standardize the features\n",
    "mean1 = np.mean(mat[:,0])\n",
    "std1 = np.std(mat[:,0])\n",
    "mean2 = np.mean(mat[:,1])\n",
    "std2 = np.std(mat[:,1])\n",
    "z_mat = np.zeros(mat.shape)\n",
    "z_mat[:,0] = (mat[:,0] - mean1) / std1\n",
    "z_mat[:,1] = (mat[:,1] - mean2) / std2\n",
    "print(z_mat)"
   ]
  },
  {
   "cell_type": "code",
   "execution_count": 221,
   "metadata": {},
   "outputs": [
    {
     "data": {
      "image/png": "[encoded data removed]",
      "text/plain": [
       "<Figure size 432x288 with 1 Axes>"
      ]
     },
     "metadata": {
      "needs_background": "light"
     },
     "output_type": "display_data"
    }
   ],
   "source": [
    "# Plot the standardized data\n",
    "plt.scatter(z_mat[:,0], z_mat[:,1])\n",
    "plt.show()"
   ]
  },
  {
   "cell_type": "code",
   "execution_count": 222,
   "metadata": {},
   "outputs": [
    {
     "name": "stdout",
     "output_type": "stream",
     "text": [
      "[[1.2        1.17530862]\n",
      " [1.17530862 1.2       ]]\n"
     ]
    }
   ],
   "source": [
    "# Compute the covariance matrix\n",
    "covariance_mat = np.cov(z_mat.transpose())\n",
    "print(covariance_mat)"
   ]
  },
  {
   "cell_type": "code",
   "execution_count": 223,
   "metadata": {},
   "outputs": [
    {
     "name": "stdout",
     "output_type": "stream",
     "text": [
      "Eigenvectors: \n",
      " [[ 0.70710678 -0.70710678]\n",
      " [ 0.70710678  0.70710678]] \n",
      "\n",
      "Eigenvalues: \n",
      " [2.37530862 0.02469138] \n",
      "\n"
     ]
    }
   ],
   "source": [
    "# Compute the eigendecomposition\n",
    "eigen_values, eigen_vectors = np.linalg.eig(covariance_mat)\n",
    "print(\"Eigenvectors: \\n\", eigen_vectors,\"\\n\")\n",
    "print(\"Eigenvalues: \\n\", eigen_values, \"\\n\")"
   ]
  },
  {
   "cell_type": "code",
   "execution_count": 224,
   "metadata": {},
   "outputs": [
    {
     "data": {
      "image/png": "[encoded data removed]",
      "text/plain": [
       "<Figure size 432x288 with 1 Axes>"
      ]
     },
     "metadata": {
      "needs_background": "light"
     },
     "output_type": "display_data"
    }
   ],
   "source": [
    "# Plot of standarized data and eigenvectors\n",
    "plt.scatter(z_mat[:,0], z_mat[:,1])\n",
    "plt.arrow(0, 0, eigen_vectors[0,0], eigen_vectors[1,0], color='r',\n",
    "          head_width=0.2, head_length=0.2)\n",
    "plt.arrow(0, 0, eigen_vectors[0,1], eigen_vectors[1,1], color='g',\n",
    "          head_width=0.2, head_length=0.2)\n",
    "plt.show()"
   ]
  },
  {
   "cell_type": "markdown",
   "metadata": {},
   "source": [
    "## Task 1.1: Application of PCA (30 points)"
   ]
  },
  {
   "cell_type": "markdown",
   "metadata": {},
   "source": [
    "1.1 Application of PCA (30 Points)\n",
    "\n",
    "Consider the computed eigenvectors (eigen_vectors) and eigenvalues (eigen_values)\n",
    "to transform the standardized data in z_mat from its 2D space into the 1D space by\n",
    "applying the PCA technique. Choose the eigenvector with the highest corresponding\n",
    "eigenvalue as principal component. Plot the transformed data into a scatter plot."
   ]
  },
  {
   "cell_type": "code",
   "execution_count": 225,
   "metadata": {},
   "outputs": [],
   "source": [
    "# TODO. See assignment sheet for instructions.\n",
    "import matplotlib.pyplot as plt\n",
    "%matplotlib inline"
   ]
  },
  {
   "cell_type": "code",
   "execution_count": 226,
   "metadata": {},
   "outputs": [
    {
     "name": "stdout",
     "output_type": "stream",
     "text": [
      "[[-1.910095  ]\n",
      " [-1.20056174]\n",
      " [-0.77669163]\n",
      " [ 0.62406999]\n",
      " [ 1.1471159 ]\n",
      " [ 2.11616247]]\n"
     ]
    }
   ],
   "source": [
    "# TODO. See assignment sheet for instructions.\n",
    "\n",
    "#sorting the eigenvalues in descending order\n",
    "sorted_index = np.argsort(eigen_values)\n",
    "sorted_eigenvalue = eigen_values[sorted_index]\n",
    "\n",
    "#similarly sorting the eigenvectors \n",
    "sorted_eigenvectors = eigen_vectors[:,sorted_index]\n",
    "\n",
    "# selecting the first n eigenvectors, n is desired dimension of our final reduced data.\n",
    "n_components = 1 #as 1D\n",
    "eigenvector_subset = eigen_vectors[:,0:n_components]\n",
    "\n",
    "#Transforming the data \n",
    "mat_reduced = np.dot(eigenvector_subset.transpose(),z_mat.transpose()).transpose() \n",
    "print(mat_reduced)"
   ]
  },
  {
   "cell_type": "code",
   "execution_count": 227,
   "metadata": {},
   "outputs": [
    {
     "name": "stderr",
     "output_type": "stream",
     "text": [
      "No handles with labels found to put in legend.\n"
     ]
    },
    {
     "data": {
      "image/png": "[encoded data removed]",
      "text/plain": [
       "<Figure size 432x288 with 1 Axes>"
      ]
     },
     "metadata": {
      "needs_background": "light"
     },
     "output_type": "display_data"
    }
   ],
   "source": [
    "yy = [0,0,0,0,0,0]\n",
    "\n",
    "# plotting the 1D data by setting the values of the second dimension (y) to zero.\n",
    "plt.scatter(mat_reduced,yy,color='blue',marker='*')\n",
    "plt.xlim([-3,3])\n",
    "plt.ylim([-3,3])\n",
    "\n",
    "#Chose the eigenvector with the highest corresponding eigenvalue as principal component. \n",
    "plt.xlabel('PCA1')\n",
    "plt.ylabel('y_values')\n",
    "plt.legend()\n",
    "plt.title('Transformed Data')\n",
    "plt.show()"
   ]
  },
  {
   "cell_type": "markdown",
   "metadata": {},
   "source": [
    "## Task 1.2: Reconstruction of data (30 points)"
   ]
  },
  {
   "cell_type": "markdown",
   "metadata": {},
   "source": [
    "1.2 Reconstruction of data (30 Points)\n",
    "\n",
    "Reconstruct the data from the 1D space by projecting it back into the 2D space of the\n",
    "original data (mat). Mind the scaling!"
   ]
  },
  {
   "cell_type": "code",
   "execution_count": 228,
   "metadata": {},
   "outputs": [
    {
     "name": "stdout",
     "output_type": "stream",
     "text": [
      "[[ 0.04428525 -1.910095  ]\n",
      " [-0.13576146 -1.20056174]\n",
      " [ 0.04549592 -0.77669163]\n",
      " [ 0.23319395  0.62406999]\n",
      " [-0.21421103  1.1471159 ]\n",
      " [ 0.02699738  2.11616247]]\n"
     ]
    }
   ],
   "source": [
    "# TODO. See assignment sheet for instructions.\n",
    "\n",
    "#sorting the eigenvalues in descending order\n",
    "sorted_index = np.argsort(eigen_values)\n",
    "sorted_eigenvalue = eigen_values[sorted_index]\n",
    "#similarly sorting the eigenvectors \n",
    "sorted_eigenvectors = eigen_vectors[:,sorted_index]\n",
    "\n",
    "# selecting the first n eigenvectors, n is desired dimension of our final reduced data.\n",
    "n_components = 2 \n",
    "eigenvector_subset = sorted_eigenvectors[:,0:n_components]\n",
    "\n",
    "#Transforming the data (PCA Technique)\n",
    "mat_reduced_tw_dm = np.dot(eigenvector_subset.transpose(),z_mat.transpose()).transpose() \n",
    "print(mat_reduced_tw_dm)"
   ]
  },
  {
   "cell_type": "code",
   "execution_count": 229,
   "metadata": {},
   "outputs": [
    {
     "name": "stdout",
     "output_type": "stream",
     "text": [
      "[[-1.31932673 -1.38195552]\n",
      " [-0.9449232  -0.75292749]\n",
      " [-0.51703345 -0.58137439]\n",
      " [ 0.60617714  0.2763911 ]\n",
      " [ 0.65966336  0.9626035 ]\n",
      " [ 1.51544286  1.4772628 ]]\n"
     ]
    }
   ],
   "source": [
    "#transpose of eigen_vectors to match dimension in main calculation\n",
    "sa = np.transpose(eigen_vectors)\n",
    "#Reconstruction of z_mat data\n",
    "recovered_z_mat = mat_reduced_tw_dm.dot(np.transpose(sa))\n",
    "print(recovered_z_mat)"
   ]
  },
  {
   "cell_type": "code",
   "execution_count": 232,
   "metadata": {},
   "outputs": [
    {
     "data": {
      "text/plain": [
       "array([[-1.38195552, -1.31932673],\n",
       "       [-0.75292749, -0.9449232 ],\n",
       "       [-0.58137439, -0.51703345],\n",
       "       [ 0.2763911 ,  0.60617714],\n",
       "       [ 0.9626035 ,  0.65966336],\n",
       "       [ 1.4772628 ,  1.51544286]])"
      ]
     },
     "execution_count": 232,
     "metadata": {},
     "output_type": "execute_result"
    }
   ],
   "source": [
    "#z_mat show\n",
    "z_mat"
   ]
  },
  {
   "cell_type": "code",
   "execution_count": 237,
   "metadata": {},
   "outputs": [
    {
     "name": "stdout",
     "output_type": "stream",
     "text": [
      "[[1.2 1.3]\n",
      " [1.9 2.5]\n",
      " [2.6 2.8]\n",
      " [4.6 4.4]\n",
      " [4.7 5.7]\n",
      " [6.2 6.6]]\n"
     ]
    }
   ],
   "source": [
    "#denoting original_mat matrix as per shape\n",
    "original_mat = np.zeros(mat.shape)\n",
    "# scaling the features (mat)\n",
    "original_mat[:,0] = ((recovered_z_mat[:,0] * std1) + mean1) #for column 0\n",
    "original_mat[:,1] = ((recovered_z_mat[:,1] * std2) + mean2) #for column 1\n",
    "print(original_mat.round(decimals=1, out=None))"
   ]
  },
  {
   "cell_type": "code",
   "execution_count": 238,
   "metadata": {},
   "outputs": [
    {
     "data": {
      "text/plain": [
       "array([[1.1, 1.4],\n",
       "       [2.2, 2.1],\n",
       "       [2.5, 2.9],\n",
       "       [4. , 5. ],\n",
       "       [5.2, 5.1],\n",
       "       [6.1, 6.7]])"
      ]
     },
     "execution_count": 238,
     "metadata": {},
     "output_type": "execute_result"
    }
   ],
   "source": [
    "#mat show\n",
    "mat"
   ]
  },
  {
   "cell_type": "markdown",
   "metadata": {},
   "source": [
    "## Task 1.3: Plotting of data (20 points)"
   ]
  },
  {
   "cell_type": "markdown",
   "metadata": {},
   "source": [
    "1.3 Plotting of data (20 Points)\n",
    "\n",
    "Plot the original data mat and the reconstructed data into the same scatter plot. Mark\n",
    "the two sets of data with a different color or symbol."
   ]
  },
  {
   "cell_type": "code",
   "execution_count": 239,
   "metadata": {},
   "outputs": [
    {
     "data": {
      "image/png": "[encoded data removed]",
      "text/plain": [
       "<Figure size 432x288 with 1 Axes>"
      ]
     },
     "metadata": {
      "needs_background": "light"
     },
     "output_type": "display_data"
    }
   ],
   "source": [
    "# TODO. See assignment sheet for instructions.\n",
    "# Plot the original data mat and the reconstructed data into the same scatter plot. \n",
    "#Mark the two sets of data with a different color or symbol.\n",
    "\n",
    "#plotting of mat\n",
    "plt.scatter(mat[:,0], mat[:,1],marker = '+')\n",
    "\n",
    "#plotting of original_mat,after reconstruction and scalling\n",
    "plt.scatter(original_mat[:,0], original_mat[:,1],marker = 'o')\n",
    "\n",
    "#to define range\n",
    "plt.xlim([0,10])\n",
    "plt.ylim([0,10])\n",
    "\n",
    "plt.show()"
   ]
  },
  {
   "cell_type": "markdown",
   "metadata": {},
   "source": [
    "## Task 1.4: Error of PCA (20 points)"
   ]
  },
  {
   "cell_type": "markdown",
   "metadata": {},
   "source": [
    "1.4 Error of PCA (20 Points)\n",
    "\n",
    "Compute the error that has been introduced by the PCA technique in the data through\n",
    "summing the pairwise distance between data points from the original data and their\n",
    "reconstructed selfs from the previous subtask."
   ]
  },
  {
   "cell_type": "code",
   "execution_count": 250,
   "metadata": {},
   "outputs": [
    {
     "name": "stdout",
     "output_type": "stream",
     "text": [
      "[[-0.10952084  0.11709334]\n",
      " [ 0.33574859 -0.35896294]\n",
      " [-0.11251492  0.12029444]\n",
      " [-0.57670664  0.61658133]\n",
      " [ 0.52976042 -0.56638915]\n",
      " [-0.06676661  0.07138299]]\n",
      "1.27207574623339\n",
      "Error is: 0.3672166372587209\n"
     ]
    }
   ],
   "source": [
    "#1.4 \n",
    "import numpy as np\n",
    "from numpy import linalg as LA\n",
    "#to calculate error from the original data and their reconstructed selfs\n",
    "total_loss=(mat-original_mat)\n",
    "print(total_loss)\n",
    "\n",
    "#to return matrix norm\n",
    "loss=LA.norm((mat-original_mat),None)\n",
    "print(loss)\n",
    "\n",
    "#converting matrix -> array\n",
    "A = mat.tolist()\n",
    "B = original_mat.tolist()\n",
    "#summing the pairwise distance between data points from the original data and their reconstructed selfs \n",
    "#from the previous subtask.\n",
    "#Function for RMSE calculation \n",
    "def rmse(predictions, targets):\n",
    "    return np.sqrt(((predictions - targets) ** 2).mean())\n",
    "\n",
    "#RMSE calculation func call\n",
    "rmse_value = rmse(np.array(A), np.array(B))\n",
    "print(\"Error is: \" + str(rmse_value))"
   ]
  },
  {
   "cell_type": "code",
   "execution_count": null,
   "metadata": {},
   "outputs": [],
   "source": []
  }
 ],
 "metadata": {
  "kernelspec": {
   "display_name": "Python 3",
   "language": "python",
   "name": "python3"
  },
  "language_info": {
   "codemirror_mode": {
    "name": "ipython",
    "version": 3
   },
   "file_extension": ".py",
   "mimetype": "text/x-python",
   "name": "python",
   "nbconvert_exporter": "python",
   "pygments_lexer": "ipython3",
   "version": "3.8.3"
  }
 },
 "nbformat": 4,
 "nbformat_minor": 4
}
