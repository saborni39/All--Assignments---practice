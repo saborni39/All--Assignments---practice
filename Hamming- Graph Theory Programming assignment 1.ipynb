{
 "cells": [
  {
   "cell_type": "markdown",
   "metadata": {},
   "source": [
    "Group Name: Hamming\n",
    "\n",
    "Members: \n",
    "1. Saborni Shernaj Binte Elahi (220202426) – ( saborni@uni-koblenz.de)\n",
    "2. M Rashedul Hasnat (220202415) – (rhasnat@uni-koblenz.de)\n",
    "3. Md Rakibul Islam (220200954) -(rakibul_islam@uni-koblenz.de)\n",
    "4. Suraya Islam Mim (221100507) -(sislam@uni-koblenz.de) \n"
   ]
  },
  {
   "cell_type": "markdown",
   "metadata": {},
   "source": [
    "TASK 1\n",
    "Implementation of a function DFS(G,v) that searches for a node v in a graph G using depth-first search.\n"
   ]
  },
  {
   "cell_type": "code",
   "execution_count": 23,
   "metadata": {},
   "outputs": [
    {
     "name": "stdout",
     "output_type": "stream",
     "text": [
      "A\n",
      "B\n",
      "D\n",
      "E\n",
      "F\n",
      "C\n"
     ]
    }
   ],
   "source": [
    "# Here G is the graph and v denotes node\n",
    "# Using a Python dictionary to act as an adjacency list\n",
    "G = {\n",
    "    'A' : ['B','C'],\n",
    "    'B' : ['D', 'E'],\n",
    "    'C' : ['F'],\n",
    "    'D' : [],\n",
    "    'E' : ['F'],\n",
    "    'F' : []\n",
    "}\n",
    "\n",
    "\n",
    "visited = set() # Set to keep track of visited nodes.\n",
    "\n",
    "# DFS algorithm\n",
    "def DFS(visited, G, v):\n",
    "    if v not in visited:\n",
    "        print (v)\n",
    "        visited.add(v)  #adding the node to visited \n",
    "        \n",
    "        # Traversing to each adjacent node of a node\n",
    "        for neighbour in G[v]:\n",
    "            #if not visited[neighbour]:\n",
    "            \n",
    "            # Checking whether the node is visited or not\n",
    "                DFS(visited, G, neighbour)  # Calling the dfs recursively\n",
    "\n",
    "\n",
    "\n",
    "# Driver Code\n",
    "DFS(visited, G, 'A')\n",
    "\n",
    "#Reference: https://www.educative.io/\n",
    "#https://www.gatevidyalay.com/depth-first-search-dfs-algorithm/?utm_content=cmp-true"
   ]
  },
  {
   "cell_type": "markdown",
   "metadata": {},
   "source": [
    "Task 2 \n",
    "Use the function implemented in task 1 to implement a function returning True,\n",
    "if a given graph is connected and False if the graph is not connected."
   ]
  },
  {
   "cell_type": "code",
   "execution_count": 25,
   "metadata": {},
   "outputs": [
    {
     "name": "stdout",
     "output_type": "stream",
     "text": [
      "False\n"
     ]
    }
   ],
   "source": [
    "n = 100000\n",
    "\n",
    "# These are used to keep the directions of correct and reverse direction\n",
    "pat1 = {}; pat2 = {};\n",
    "\n",
    "vs1 = [0] * n; vs2 = [0] * n;\n",
    "\n",
    "# Function to add edges\n",
    "def Add_edge(u, v) :\n",
    "\n",
    "    if u not in pat1 :\n",
    "        pat1[u] = [];\n",
    "        \n",
    "    if v not in pat2 :\n",
    "        pat2[v] = [];\n",
    "\n",
    "        \n",
    "    pat1[u].append(v);\n",
    "    pat2[v].append(u);\n",
    "\n",
    "# DFS function\n",
    "def dfs1(x) :\n",
    "    vs1[x] = True;\n",
    "    if x not in pat1 :\n",
    "        pat1[x] = {};\n",
    "        \n",
    "    for i in pat1[x] :\n",
    "        if (not vs1[i]) :\n",
    "            dfs1(i)\n",
    "\n",
    "# DFS function\n",
    "def dfs2(x) :\n",
    "\n",
    "    vs2[x] = True;\n",
    "\n",
    "    if x not in pat2 :\n",
    "        pat2[x] = {};\n",
    "        \n",
    "    for i in pat2[x] :\n",
    "        if (not vs2[i]) :\n",
    "            dfs2(i);\n",
    "            \n",
    "\n",
    "visited = set() # Set to keep track of visited nodes.\n",
    "\n",
    "# DFS algorithm\n",
    "def dfs(visited, G, v):\n",
    "    if v not in visited:\n",
    "        print (v)\n",
    "        visited.add(v)  #adding the node to visited \n",
    "        \n",
    "        # Traversing to each adjacent node of a node\n",
    "        for neighbour in G[v]:\n",
    "            #if not visited[neighbour]:\n",
    "            \n",
    "            # Checking whether the node is visited or not\n",
    "                dfs(visited, G, neighbour)  # Calling the dfs recursively\n",
    "\n",
    "            \n",
    "# connection check            \n",
    "def Is_Connected(n) :\n",
    "\n",
    "    global vs1;\n",
    "    global vs2;\n",
    "    \n",
    "    # Calling for correct direction\n",
    "    vs1 = [False] * len(vs1); #length of vs1\n",
    "    dfs1(1); #dfs1 function\n",
    "    \n",
    "    # Calling for reverse direction\n",
    "    vs2 = [False] * len(vs2); #length of vs2\n",
    "    dfs2(1); #dfs2 function\n",
    "    \n",
    "    for i in range(1, n + 1) :\n",
    "        \n",
    "        \n",
    "        if (not vs1[i] and not vs2[i]) : \n",
    "            # when any node it not visited in any direction then the graph is disconnected, returns false\n",
    "            return False;\n",
    "\n",
    "    # It returns true if the graph is connected\n",
    "    return True;\n",
    "\n",
    "# Driver code (main function)\n",
    "if __name__ == \"__main__\" :\n",
    "\n",
    "    n = 4; #number of nodes\n",
    "    \n",
    "    #example one - connected graph\n",
    "    #Add edges\n",
    "    #Add_edge(1, 2);\n",
    "    #Add_edge(1, 3);\n",
    "    #Add_edge(2, 3);\n",
    "    #Add_edge(3, 4);\n",
    "\n",
    "    #example two - not connected graph\n",
    "    Add_edge(1, 2);\n",
    "    Add_edge(1, 3);\n",
    "    Add_edge(2, 3);\n",
    "    Add_edge(4, 4);\n",
    "    \n",
    "    \n",
    "    # Function call for checking either the graph is connected or not\n",
    "    if (Is_Connected(n)) :\n",
    "        print(\"True\");\n",
    "    else :\n",
    "        print(\"False\");\n",
    "\n"
   ]
  },
  {
   "cell_type": "code",
   "execution_count": null,
   "metadata": {},
   "outputs": [],
   "source": []
  },
  {
   "cell_type": "code",
   "execution_count": null,
   "metadata": {},
   "outputs": [],
   "source": []
  },
  {
   "cell_type": "code",
   "execution_count": null,
   "metadata": {},
   "outputs": [],
   "source": []
  }
 ],
 "metadata": {
  "kernelspec": {
   "display_name": "Python 3",
   "language": "python",
   "name": "python3"
  },
  "language_info": {
   "codemirror_mode": {
    "name": "ipython",
    "version": 3
   },
   "file_extension": ".py",
   "mimetype": "text/x-python",
   "name": "python",
   "nbconvert_exporter": "python",
   "pygments_lexer": "ipython3",
   "version": "3.8.3"
  }
 },
 "nbformat": 4,
 "nbformat_minor": 4
}
